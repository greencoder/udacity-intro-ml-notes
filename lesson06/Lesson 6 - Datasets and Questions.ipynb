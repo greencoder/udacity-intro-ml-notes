{
 "cells": [
  {
   "cell_type": "markdown",
   "metadata": {},
   "source": [
    "Starter code for exploring the Enron dataset (emails + finances); loads up the dataset (pickled dict of dicts).\n",
    "\n",
    "The dataset has the form:\n",
    "```\n",
    "enron_data[\"LASTNAME FIRSTNAME MIDDLEINITIAL\"] = { features_dict }\n",
    "```\n",
    "\n",
    "`{features_dict}` is a dictionary of features associated with that person. You should explore features_dict as part of the mini-project, but here's an example to get you started:\n",
    "```\n",
    "enron_data[\"SKILLING JEFFREY K\"][\"bonus\"] = 5600000\n",
    "```"
   ]
  },
  {
   "cell_type": "code",
   "execution_count": 1,
   "metadata": {
    "collapsed": true
   },
   "outputs": [],
   "source": [
    "import pickle\n",
    "\n",
    "enron_data = pickle.load(open('final_project_dataset.pkl', 'r'))"
   ]
  },
  {
   "cell_type": "markdown",
   "metadata": {},
   "source": [
    "# Quiz: Size of the Enron dataset"
   ]
  },
  {
   "cell_type": "code",
   "execution_count": 4,
   "metadata": {},
   "outputs": [
    {
     "name": "stdout",
     "output_type": "stream",
     "text": [
      "146\n"
     ]
    }
   ],
   "source": [
    "print len(enron_data.keys())"
   ]
  },
  {
   "cell_type": "markdown",
   "metadata": {},
   "source": [
    "# Features in the Enron Dataset"
   ]
  },
  {
   "cell_type": "code",
   "execution_count": 25,
   "metadata": {},
   "outputs": [
    {
     "name": "stdout",
     "output_type": "stream",
     "text": [
      "['salary', 'to_messages', 'deferral_payments', 'total_payments', 'exercised_stock_options', 'bonus', 'restricted_stock', 'shared_receipt_with_poi', 'restricted_stock_deferred', 'total_stock_value', 'expenses', 'loan_advances', 'from_messages', 'other', 'from_this_person_to_poi', 'poi', 'director_fees', 'deferred_income', 'long_term_incentive', 'email_address', 'from_poi_to_this_person']\n",
      "21\n"
     ]
    }
   ],
   "source": [
    "first = enron_data[enron_data.keys()[0]]\n",
    "print first.keys()\n",
    "print len(first.keys())"
   ]
  },
  {
   "cell_type": "markdown",
   "metadata": {},
   "source": [
    "# Finding POIs in the Enron Data"
   ]
  },
  {
   "cell_type": "code",
   "execution_count": 19,
   "metadata": {},
   "outputs": [
    {
     "name": "stdout",
     "output_type": "stream",
     "text": [
      "18\n"
     ]
    }
   ],
   "source": [
    "pois = [key for key,value in enron_data.items() if value['poi'] == 1]\n",
    "print len(pois)"
   ]
  },
  {
   "cell_type": "markdown",
   "metadata": {},
   "source": [
    "# How Many POIs Exist?"
   ]
  },
  {
   "cell_type": "markdown",
   "metadata": {},
   "source": [
    "http://usatoday30.usatoday.com/money/industries/energy/2005-12-28-enron-participants_x.htm\n",
    "\n",
    "1. (y) Lay, Kenneth\n",
    "1. (y) Skilling, Jeffrey\n",
    "1. (n) Howard, Kevin\n",
    "1. (n) Krautz, Michael\n",
    "1. (n) Yeager, Scott\n",
    "1. (n) Hirko, Joseph\n",
    "1. (n) Shelby, Rex\n",
    "1. (n) Bermingham, David\n",
    "1. (n) Darby, Giles\n",
    "1. (n) Mulgrew, Gary\n",
    "1. (n) Bayley, Daniel\n",
    "1. (n) Brown, James\n",
    "1. (n) Furst, Robert\n",
    "1. (n) Fuhs, William\n",
    "1. (n) Causey, Richard\n",
    "1. (n) Calger, Christopher\n",
    "1. (n) DeSpain, Timothy\n",
    "1. (n) Hannon, Kevin\n",
    "1. (n) Koenig, Mark\n",
    "1. (y) Forney, John\n",
    "1. (n) Rice, Kenneth\n",
    "1. (n) Rieker, Paula\n",
    "1. (n) Fastow, Lea\n",
    "1. (n) Fastow, Andrew\n",
    "1. (y) Delainey, David\n",
    "1. (n) Glisan, Ben\n",
    "1. (n) Richter, Jeffrey\n",
    "1. (n) Lawyer, Larry\n",
    "1. (n) Belden, Timothy\n",
    "1. (n) Kopper, Michael\n",
    "1. (n) Duncan, David\n",
    "1. (n) Bowen, Raymond\n",
    "1. (n) Colwell, Wesley\n",
    "1. (n) Boyle, Dan\n",
    "1. (n) Loehr, Christopher"
   ]
  },
  {
   "cell_type": "markdown",
   "metadata": {},
   "source": [
    "# Query the Dataset 1"
   ]
  },
  {
   "cell_type": "code",
   "execution_count": 27,
   "metadata": {},
   "outputs": [
    {
     "data": {
      "text/plain": [
       "['PIPER GREGORY F',\n",
       " 'POWERS WILLIAM',\n",
       " 'PIRO JIM',\n",
       " 'PEREIRA PAULO V. FERRAZ',\n",
       " 'PRENTICE JAMES',\n",
       " 'PICKERING MARK R',\n",
       " 'PAI LOU L']"
      ]
     },
     "execution_count": 27,
     "metadata": {},
     "output_type": "execute_result"
    }
   ],
   "source": [
    "[k for k,v in enron_data.items() if k.startswith('P')]"
   ]
  },
  {
   "cell_type": "code",
   "execution_count": 28,
   "metadata": {},
   "outputs": [
    {
     "data": {
      "text/plain": [
       "1095040"
      ]
     },
     "execution_count": 28,
     "metadata": {},
     "output_type": "execute_result"
    }
   ],
   "source": [
    "enron_data['PRENTICE JAMES']['total_stock_value']"
   ]
  },
  {
   "cell_type": "markdown",
   "metadata": {},
   "source": [
    "# Query the Dataset 2"
   ]
  },
  {
   "cell_type": "code",
   "execution_count": 29,
   "metadata": {},
   "outputs": [
    {
     "data": {
      "text/plain": [
       "['CORDES WILLIAM R',\n",
       " 'COLWELL WESLEY',\n",
       " 'CHAN RONNIE',\n",
       " 'CLINE KENNETH W',\n",
       " 'CUMBERLAND MICHAEL S',\n",
       " 'CALGER CHRISTOPHER F',\n",
       " 'COX DAVID',\n",
       " 'CHRISTODOULOU DIOMEDES',\n",
       " 'CARTER REBECCA C',\n",
       " 'CAUSEY RICHARD A']"
      ]
     },
     "execution_count": 29,
     "metadata": {},
     "output_type": "execute_result"
    }
   ],
   "source": [
    "[k for k,v in enron_data.items() if k.startswith('C')]"
   ]
  },
  {
   "cell_type": "code",
   "execution_count": 30,
   "metadata": {},
   "outputs": [
    {
     "data": {
      "text/plain": [
       "['salary',\n",
       " 'to_messages',\n",
       " 'deferral_payments',\n",
       " 'total_payments',\n",
       " 'exercised_stock_options',\n",
       " 'bonus',\n",
       " 'restricted_stock',\n",
       " 'shared_receipt_with_poi',\n",
       " 'restricted_stock_deferred',\n",
       " 'total_stock_value',\n",
       " 'expenses',\n",
       " 'loan_advances',\n",
       " 'from_messages',\n",
       " 'other',\n",
       " 'from_this_person_to_poi',\n",
       " 'poi',\n",
       " 'director_fees',\n",
       " 'deferred_income',\n",
       " 'long_term_incentive',\n",
       " 'email_address',\n",
       " 'from_poi_to_this_person']"
      ]
     },
     "execution_count": 30,
     "metadata": {},
     "output_type": "execute_result"
    }
   ],
   "source": [
    "enron_data['COLWELL WESLEY'].keys()"
   ]
  },
  {
   "cell_type": "code",
   "execution_count": 31,
   "metadata": {},
   "outputs": [
    {
     "data": {
      "text/plain": [
       "11"
      ]
     },
     "execution_count": 31,
     "metadata": {},
     "output_type": "execute_result"
    }
   ],
   "source": [
    "enron_data['COLWELL WESLEY']['from_this_person_to_poi']"
   ]
  },
  {
   "cell_type": "markdown",
   "metadata": {},
   "source": [
    "# Querying the Dataset 3"
   ]
  },
  {
   "cell_type": "code",
   "execution_count": 33,
   "metadata": {},
   "outputs": [
    {
     "data": {
      "text/plain": [
       "['SKILLING JEFFREY K']"
      ]
     },
     "execution_count": 33,
     "metadata": {},
     "output_type": "execute_result"
    }
   ],
   "source": [
    "[k for k,v in enron_data.items() if k.startswith('SK')]"
   ]
  },
  {
   "cell_type": "code",
   "execution_count": 34,
   "metadata": {},
   "outputs": [
    {
     "data": {
      "text/plain": [
       "19250000"
      ]
     },
     "execution_count": 34,
     "metadata": {},
     "output_type": "execute_result"
    }
   ],
   "source": [
    "enron_data['SKILLING JEFFREY K']['exercised_stock_options']"
   ]
  },
  {
   "cell_type": "markdown",
   "metadata": {},
   "source": [
    "# Follow the Money"
   ]
  },
  {
   "cell_type": "code",
   "execution_count": 43,
   "metadata": {},
   "outputs": [
    {
     "data": {
      "text/plain": [
       "('LAY KENNETH L', 103559793)"
      ]
     },
     "execution_count": 43,
     "metadata": {},
     "output_type": "execute_result"
    }
   ],
   "source": [
    "keys = [k for k,v in enron_data.items() if k.startswith('LAY') or k.startswith('FASTOW') or k.startswith('SKILLING')]\n",
    "\n",
    "name_payments = []\n",
    "for key in keys:\n",
    "    values = enron_data[key]\n",
    "    name_payments.append((key, values['total_payments']))\n",
    "    \n",
    "max(name_payments, key=lambda item:item[1])"
   ]
  },
  {
   "cell_type": "markdown",
   "metadata": {},
   "source": [
    "# Unfilled Features"
   ]
  },
  {
   "cell_type": "code",
   "execution_count": 46,
   "metadata": {},
   "outputs": [
    {
     "name": "stdout",
     "output_type": "stream",
     "text": [
      "salary 1072321\n",
      "to_messages 4273\n",
      "deferral_payments 202911\n",
      "total_payments 103559793\n",
      "exercised_stock_options 34348384\n",
      "bonus 7000000\n",
      "restricted_stock 14761694\n",
      "shared_receipt_with_poi 2411\n",
      "restricted_stock_deferred NaN\n",
      "total_stock_value 49110078\n",
      "expenses 99832\n",
      "loan_advances 81525000\n",
      "from_messages 36\n",
      "other 10359729\n",
      "from_this_person_to_poi 16\n",
      "poi True\n",
      "director_fees NaN\n",
      "deferred_income -300000\n",
      "long_term_incentive 3600000\n",
      "email_address kenneth.lay@enron.com\n",
      "from_poi_to_this_person 123\n"
     ]
    }
   ],
   "source": [
    "for key, value in enron_data['LAY KENNETH L'].items():\n",
    "    print key, value"
   ]
  },
  {
   "cell_type": "markdown",
   "metadata": {},
   "source": [
    "# Dealing with Unfilled Features"
   ]
  },
  {
   "cell_type": "code",
   "execution_count": 52,
   "metadata": {},
   "outputs": [
    {
     "name": "stdout",
     "output_type": "stream",
     "text": [
      "Salary:  95\n",
      "Email Addresses:  111\n"
     ]
    }
   ],
   "source": [
    "print 'Salary: ', len([k for k,v in enron_data.items() if v['salary'] != 'NaN'])\n",
    "print 'Email Addresses: ', len([k for k,v in enron_data.items() if v['email_address'] != 'NaN'])"
   ]
  },
  {
   "cell_type": "markdown",
   "metadata": {},
   "source": [
    "# Missing POIs 1 (optional)"
   ]
  },
  {
   "cell_type": "code",
   "execution_count": 60,
   "metadata": {},
   "outputs": [
    {
     "data": {
      "text/plain": [
       "14.383561643835616"
      ]
     },
     "execution_count": 60,
     "metadata": {},
     "output_type": "execute_result"
    }
   ],
   "source": [
    "no_payments_count = len([k for k,v in enron_data.items() if v['total_payments'] == 'NaN'])\n",
    "float(no_payments_count) / len(enron_data.keys()) * 100"
   ]
  },
  {
   "cell_type": "markdown",
   "metadata": {},
   "source": [
    "# Missing POIs 2 (optional)"
   ]
  },
  {
   "cell_type": "code",
   "execution_count": 68,
   "metadata": {},
   "outputs": [
    {
     "data": {
      "text/plain": [
       "0.0"
      ]
     },
     "execution_count": 68,
     "metadata": {},
     "output_type": "execute_result"
    }
   ],
   "source": [
    "[k for k,v in enron_data.items() if v['poi'] == 1 and v['total_payments'] == 'NaN']\n",
    "float(no_payments_count) / len(enron_data.keys()) * 100"
   ]
  },
  {
   "cell_type": "markdown",
   "metadata": {},
   "source": [
    "# Missing POIs 4 (optional)"
   ]
  },
  {
   "cell_type": "code",
   "execution_count": 70,
   "metadata": {},
   "outputs": [
    {
     "name": "stdout",
     "output_type": "stream",
     "text": [
      "156\n"
     ]
    }
   ],
   "source": [
    "print len(enron_data.keys()) + 10"
   ]
  },
  {
   "cell_type": "code",
   "execution_count": 72,
   "metadata": {},
   "outputs": [
    {
     "name": "stdout",
     "output_type": "stream",
     "text": [
      "31\n"
     ]
    }
   ],
   "source": [
    "print len([k for k,v in enron_data.items() if v['total_payments'] == 'NaN']) + 10"
   ]
  },
  {
   "cell_type": "markdown",
   "metadata": {},
   "source": [
    "# Missing POIs 5 (optional)"
   ]
  },
  {
   "cell_type": "code",
   "execution_count": 73,
   "metadata": {},
   "outputs": [
    {
     "name": "stdout",
     "output_type": "stream",
     "text": [
      "28\n"
     ]
    }
   ],
   "source": [
    "print len([k for k,v in enron_data.items() if v['poi'] == 1]) + 10"
   ]
  },
  {
   "cell_type": "code",
   "execution_count": 74,
   "metadata": {},
   "outputs": [
    {
     "data": {
      "text/plain": [
       "10"
      ]
     },
     "execution_count": 74,
     "metadata": {},
     "output_type": "execute_result"
    }
   ],
   "source": [
    "len([k for k,v in enron_data.items() if v['poi'] == 1 and v['total_payments'] == 'NaN']) + 10"
   ]
  }
 ],
 "metadata": {
  "kernelspec": {
   "display_name": "Python 2",
   "language": "python",
   "name": "python2"
  },
  "language_info": {
   "codemirror_mode": {
    "name": "ipython",
    "version": 2
   },
   "file_extension": ".py",
   "mimetype": "text/x-python",
   "name": "python",
   "nbconvert_exporter": "python",
   "pygments_lexer": "ipython2",
   "version": "2.7.10"
  }
 },
 "nbformat": 4,
 "nbformat_minor": 2
}
