{
 "cells": [
  {
   "cell_type": "markdown",
   "metadata": {},
   "source": [
    "# Coding a Decision Tree"
   ]
  },
  {
   "cell_type": "code",
   "execution_count": 1,
   "metadata": {
    "collapsed": true
   },
   "outputs": [],
   "source": [
    "from class_vis import prettyPicture, output_image\n",
    "from prep_terrain_data import makeTerrainData\n",
    "\n",
    "import matplotlib.pyplot as plt\n",
    "import numpy as np\n",
    "import pylab as pl\n",
    "\n",
    "features_train, labels_train, features_test, labels_test = makeTerrainData()"
   ]
  },
  {
   "cell_type": "code",
   "execution_count": 4,
   "metadata": {
    "collapsed": true
   },
   "outputs": [],
   "source": [
    "from sklearn.tree import DecisionTreeClassifier\n",
    "from sklearn.metrics import accuracy_score\n",
    "\n",
    "def classify(features_train, labels_train):\n",
    "    clf = DecisionTreeClassifier()\n",
    "    clf.fit(features_train, labels_train)\n",
    "    return clf"
   ]
  },
  {
   "cell_type": "code",
   "execution_count": 6,
   "metadata": {},
   "outputs": [
    {
     "name": "stdout",
     "output_type": "stream",
     "text": [
      "0.908\n"
     ]
    }
   ],
   "source": [
    "clf = classify(features_train, labels_train)\n",
    "pred = clf.predict(features_test)\n",
    "acc = accuracy_score(pred, labels_test)\n",
    "\n",
    "print acc"
   ]
  },
  {
   "cell_type": "code",
   "execution_count": 7,
   "metadata": {},
   "outputs": [
    {
     "data": {
      "image/png": "[encoded data removed]",
      "text/plain": [
       "<matplotlib.figure.Figure at 0x1113bb110>"
      ]
     },
     "metadata": {},
     "output_type": "display_data"
    }
   ],
   "source": [
    "%matplotlib inline\n",
    "prettyPicture(clf, features_test, labels_test)\n",
    "plt.show()"
   ]
  },
  {
   "cell_type": "markdown",
   "metadata": {},
   "source": [
    "# Decision Tree Accuracy"
   ]
  },
  {
   "cell_type": "code",
   "execution_count": 13,
   "metadata": {},
   "outputs": [
    {
     "name": "stdout",
     "output_type": "stream",
     "text": [
      "\n"
     ]
    }
   ],
   "source": [
    "from sklearn.tree import DecisionTreeClassifier\n",
    "from sklearn.metrics import accuracy_score\n",
    "\n",
    "clf1 = DecisionTreeClassifier(min_samples_split=2)\n",
    "clf1.fit(features_train, labels_train)\n",
    "pred1 = clf1.predict(features_test)\n",
    "acc_min_samples_split_2 = accuracy_score(pred1, labels_test)\n",
    "\n",
    "clf2 = DecisionTreeClassifier(min_samples_split=50)\n",
    "clf2.fit(features_train, labels_train)\n",
    "pred2 = clf2.predict(features_test)\n",
    "acc_min_samples_split_50 = accuracy_score(pred2, labels_test)"
   ]
  },
  {
   "cell_type": "code",
   "execution_count": 14,
   "metadata": {},
   "outputs": [
    {
     "name": "stdout",
     "output_type": "stream",
     "text": [
      "2:  0.908\n",
      "50:  0.912\n"
     ]
    }
   ],
   "source": [
    "print '2: ', acc_min_samples_split_2\n",
    "print '50: ', acc_min_samples_split_50"
   ]
  },
  {
   "cell_type": "markdown",
   "metadata": {},
   "source": [
    "# Data Impurity and Entropy"
   ]
  },
  {
   "cell_type": "markdown",
   "metadata": {},
   "source": [
    "_entropy_ is the thing that controls how a decision tree decides where to split the data. It's a measure of _impurity_ in bunch of examples."
   ]
  },
  {
   "cell_type": "markdown",
   "metadata": {},
   "source": [
    "If all your examples are of the same class, your entropy is `0`. If your examples are evenly split between two classes, the entropy is `1.0`."
   ]
  },
  {
   "cell_type": "markdown",
   "metadata": {},
   "source": [
    "−∑​i(pi)log​2(pi)"
   ]
  },
  {
   "cell_type": "markdown",
   "metadata": {},
   "source": [
    "Here's some made-up data:\n",
    "\n",
    "| Grade | Bumpiness | Speed Limit? | Speed |\n",
    "|-------|-----------|--------------|-------|\n",
    "| steep | bumpy     | yes          | slow  |\n",
    "| steep | smooth    | yes          | slow  |\n",
    "| flat  | bumpy     | no           | fast  |\n",
    "| steep | smooth    | no           | fast  |\n"
   ]
  },
  {
   "cell_type": "markdown",
   "metadata": {},
   "source": [
    "What is the entropy of this node?"
   ]
  },
  {
   "cell_type": "markdown",
   "metadata": {},
   "source": [
    "```\n",
    "SSFF\n",
    "```"
   ]
  },
  {
   "cell_type": "markdown",
   "metadata": {},
   "source": [
    "1. How many examples are slow? 2\n",
    "1. How many examples total are there? 4"
   ]
  },
  {
   "cell_type": "markdown",
   "metadata": {},
   "source": [
    "`Pi` is the fraction of slow examples to total examples:\n",
    "\n",
    "1. `Pslow` is `0.5`.\n",
    "2. `Pfast` is `0.5`."
   ]
  },
  {
   "cell_type": "markdown",
   "metadata": {},
   "source": [
    "What is the entropy of this node? Here's how to calculate it in Python:"
   ]
  },
  {
   "cell_type": "code",
   "execution_count": 18,
   "metadata": {},
   "outputs": [
    {
     "data": {
      "text/plain": [
       "1.0"
      ]
     },
     "execution_count": 18,
     "metadata": {},
     "output_type": "execute_result"
    }
   ],
   "source": [
    "import math\n",
    "\n",
    "pslow = 0.5\n",
    "pfast = 0.5\n",
    "\n",
    "-pslow * math.log(pslow, 2) + -pfast * math.log(pfast, 2)"
   ]
  },
  {
   "cell_type": "markdown",
   "metadata": {},
   "source": [
    "# Information Gain"
   ]
  },
  {
   "cell_type": "markdown",
   "metadata": {},
   "source": [
    "The decision tree algorithm seeks to maximize information gain."
   ]
  },
  {
   "cell_type": "markdown",
   "metadata": {},
   "source": [
    "Using this made-up data as the parent:\n",
    "\n",
    "| Grade | Bumpiness | Speed Limit? | Speed |\n",
    "|-------|-----------|--------------|-------|\n",
    "| steep | bumpy     | yes          | slow  |\n",
    "| steep | smooth    | yes          | slow  |\n",
    "| flat  | bumpy     | no           | fast  |\n",
    "| steep | smooth    | no           | fast  |\n"
   ]
  },
  {
   "cell_type": "markdown",
   "metadata": {},
   "source": [
    "Let's use information gain to decide which variable to split:"
   ]
  },
  {
   "cell_type": "markdown",
   "metadata": {},
   "source": [
    "If we split based on `grade`, we have three values with `steep` and one value with `flat`. "
   ]
  },
  {
   "cell_type": "markdown",
   "metadata": {},
   "source": [
    "On the `steep` half, we have three total observations, and the speeds are `s,s,f`. On the `flat` half, we have one example and the speed is: `f`."
   ]
  },
  {
   "cell_type": "markdown",
   "metadata": {},
   "source": [
    "This is what the tree would look like:\n",
    "    \n",
    "![Node](01.png)"
   ]
  },
  {
   "cell_type": "markdown",
   "metadata": {},
   "source": [
    "The entropy of the `flat` node is `0`, since all the values (the only value) are the same."
   ]
  },
  {
   "cell_type": "markdown",
   "metadata": {},
   "source": [
    "In order to calculate the entropy for the `steep` node, we have to calculate `pslow` and `pfast`. `pslow` is `2/3`, since two of the three observations are `slow`. `pfast` is `1/3` since the count of `fast` observations is one out of three."
   ]
  },
  {
   "cell_type": "code",
   "execution_count": 27,
   "metadata": {},
   "outputs": [
    {
     "data": {
      "text/plain": [
       "0.9183482667614573"
      ]
     },
     "execution_count": 27,
     "metadata": {},
     "output_type": "execute_result"
    }
   ],
   "source": [
    "import math\n",
    "\n",
    "pslow = 0.6666\n",
    "pfast = 0.3333\n",
    "\n",
    "-pslow * math.log(pslow, 2) + -pfast * math.log(pfast, 2)"
   ]
  },
  {
   "cell_type": "markdown",
   "metadata": {},
   "source": [
    "To calculate the information gain for the `grade` feature:"
   ]
  },
  {
   "cell_type": "code",
   "execution_count": 37,
   "metadata": {},
   "outputs": [
    {
     "name": "stdout",
     "output_type": "stream",
     "text": [
      "0.3112\n"
     ]
    }
   ],
   "source": [
    "steep_obs = 0.75 # 3/4\n",
    "entropy_steep = 0.9184 # SSF were the observations\n",
    "\n",
    "flat_obs = 0.25 # 1/4\n",
    "entropy_flat = 0.0 # F was the only observation\n",
    "\n",
    "entropy_parent = 1.0 # SSFF were the observations\n",
    "\n",
    "information_gain = entropy_parent - (steep_obs * entropy_steep) - (flat_obs * entropy_flat)\n",
    "\n",
    "print information_gain"
   ]
  },
  {
   "cell_type": "markdown",
   "metadata": {},
   "source": [
    "Now let's compute the information gain based on bumpiness:"
   ]
  },
  {
   "cell_type": "code",
   "execution_count": 38,
   "metadata": {},
   "outputs": [
    {
     "name": "stdout",
     "output_type": "stream",
     "text": [
      "0.0\n"
     ]
    }
   ],
   "source": [
    "bumpy_obs = 0.5 # 2/4\n",
    "smooth_obs = 0.5 # 2/4\n",
    "entropy_bumpy = 1.0 # Observations are S,F\n",
    "entropy_smooth = 1.0 # Observations are S,F\n",
    "entropy_parent = 1.0 # Observations were S,S,F,F\n",
    "\n",
    "information_gain = entropy_parent - (bumpy_obs * entropy_bumpy) - (smooth_obs * entropy_smooth)\n",
    "print information_gain"
   ]
  },
  {
   "cell_type": "markdown",
   "metadata": {},
   "source": [
    "Now let's compute the information gain based on speed limit:"
   ]
  },
  {
   "cell_type": "code",
   "execution_count": 40,
   "metadata": {},
   "outputs": [
    {
     "name": "stdout",
     "output_type": "stream",
     "text": [
      "1.0\n"
     ]
    }
   ],
   "source": [
    "yes_obs = 0.5 # 2/4\n",
    "no_obs = 0.5 # 2/4\n",
    "entropy_yes = 0 # Both are S,S\n",
    "entropy_no = 0 # Both are F,F\n",
    "entropy_parent = 1.0 # observations were S,S,F,F\n",
    "\n",
    "information_gain = entropy_parent - (yes_obs * entropy_yes) - (no_obs * entropy_no)\n",
    "print information_gain"
   ]
  },
  {
   "cell_type": "markdown",
   "metadata": {},
   "source": [
    "The best information gain we can have is when we split on speed limit."
   ]
  },
  {
   "cell_type": "markdown",
   "metadata": {},
   "source": [
    "# Bias-Variance Dilemma"
   ]
  },
  {
   "cell_type": "markdown",
   "metadata": {},
   "source": [
    "A _high bias_ machine learning system practically ignores the data. A _high variance_ system can only make decisions based on information it has seen before. "
   ]
  },
  {
   "cell_type": "markdown",
   "metadata": {},
   "source": [
    "A good balance is where the bias is balanced with variance; it is open to new data (bias) and is able to generalize what it hasn't seen before (variance)."
   ]
  },
  {
   "cell_type": "code",
   "execution_count": null,
   "metadata": {
    "collapsed": true
   },
   "outputs": [],
   "source": []
  }
 ],
 "metadata": {
  "kernelspec": {
   "display_name": "Python 2",
   "language": "python",
   "name": "python2"
  },
  "language_info": {
   "codemirror_mode": {
    "name": "ipython",
    "version": 2
   },
   "file_extension": ".py",
   "mimetype": "text/x-python",
   "name": "python",
   "nbconvert_exporter": "python",
   "pygments_lexer": "ipython2",
   "version": "2.7.10"
  }
 },
 "nbformat": 4,
 "nbformat_minor": 2
}
